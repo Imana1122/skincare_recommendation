{
 "cells": [
  {
   "cell_type": "code",
   "execution_count": 1,
   "metadata": {},
   "outputs": [],
   "source": [
    "\"\"\"\n",
    "To generate skin color tone csv for skin tone classification\n",
    "\"\"\"\n",
    "import cv2\n",
    "import numpy as np\n",
    "import pandas as pd\n",
    "import os\n"
   ]
  },
  {
   "cell_type": "code",
   "execution_count": 2,
   "metadata": {},
   "outputs": [],
   "source": [
    "folder = \"skin tone values\"\n",
    "df = pd.DataFrame()\n",
    "\n",
    "for subfolder in os.listdir(folder):\n",
    "    for filename in os.listdir(os.path.join(folder, subfolder)):\n",
    "        img = cv2.imread(os.path.join(folder, subfolder, filename))\n",
    "        if img is not None:\n",
    "            B = img.reshape([-1, 3])[:, 0]\n",
    "            G = img.reshape([-1, 3])[:, 1]\n",
    "            R = img.reshape([-1, 3])[:, 2]\n",
    "\n",
    "            row_data = {\n",
    "                'Type': subfolder,\n",
    "                'R': R[R.argmax()],\n",
    "                'G': G[G.argmax()],\n",
    "                'B': B[B.argmax()]\n",
    "            }\n",
    "            df = pd.concat([df, pd.DataFrame([row_data])], ignore_index=True)\n",
    "\n",
    "df.to_csv('skin_tone_dataset.csv', index=False)"
   ]
  },
  {
   "cell_type": "code",
   "execution_count": 3,
   "metadata": {},
   "outputs": [
    {
     "name": "stdout",
     "output_type": "stream",
     "text": [
      "Type    2222.2\n",
      "R        254.0\n",
      "G        253.8\n",
      "B        253.4\n",
      "dtype: object Type    317460.285714\n",
      "R          250.142857\n",
      "G          244.571429\n",
      "B          234.285714\n",
      "dtype: object Type    476190.428571\n",
      "R          239.285714\n",
      "G          226.285714\n",
      "B          170.571429\n",
      "dtype: object Type    634920.571429\n",
      "R          205.428571\n",
      "G          171.142857\n",
      "B               101.0\n",
      "dtype: object Type    793650.714286\n",
      "R          102.142857\n",
      "G           55.714286\n",
      "B           34.571429\n",
      "dtype: object Type    33.0\n",
      "R       31.5\n",
      "G       27.0\n",
      "B       38.5\n",
      "dtype: object\n"
     ]
    }
   ],
   "source": [
    "tone1 = df.loc[df['Type'] == '1'].mean(axis=0)\n",
    "tone2 = df.loc[df['Type'] == '2'].mean(axis=0)\n",
    "tone3 = df.loc[df['Type'] == '3'].mean(axis=0)\n",
    "tone4 = df.loc[df['Type'] == '4'].mean(axis=0)\n",
    "tone5 = df.loc[df['Type'] == '5'].mean(axis=0)\n",
    "tone6 = df.loc[df['Type'] == '6'].mean(axis=0)\n",
    "print(tone1, tone2, tone3, tone4, tone5, tone6)\n",
    "\n"
   ]
  },
  {
   "cell_type": "code",
   "execution_count": null,
   "metadata": {},
   "outputs": [],
   "source": []
  }
 ],
 "metadata": {
  "interpreter": {
   "hash": "ba2f22f42967f045b6a8cdadb7a1806ca4d147626f8330f177f9e32090d93637"
  },
  "kernelspec": {
   "display_name": "Python-3.8.10",
   "language": "python",
   "name": "myenv"
  },
  "language_info": {
   "codemirror_mode": {
    "name": "ipython",
    "version": 3
   },
   "file_extension": ".py",
   "mimetype": "text/x-python",
   "name": "python",
   "nbconvert_exporter": "python",
   "pygments_lexer": "ipython3",
   "version": "3.8.10"
  }
 },
 "nbformat": 4,
 "nbformat_minor": 2
}
